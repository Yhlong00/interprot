{
 "cells": [
  {
   "cell_type": "code",
   "execution_count": 1,
   "metadata": {},
   "outputs": [],
   "source": [
    "import os\n",
    "import torch\n",
    "import esm \n",
    "from sae_model import SparseAutoencoder\n",
    "from esm_wrapper import ESM2Model"
   ]
  },
  {
   "cell_type": "code",
   "execution_count": 2,
   "metadata": {},
   "outputs": [],
   "source": [
    "from collections import OrderedDict\n",
    "\n",
    "# Mapping from one-letter residue name to three-letter residue name\n",
    "RESTYPE_1_TO_3 = OrderedDict({\n",
    "    'A': 'ALA',\n",
    "    'R': 'ARG',\n",
    "    'N': 'ASN',\n",
    "    'D': 'ASP',\n",
    "    'C': 'CYS',\n",
    "    'Q': 'GLN',\n",
    "    'E': 'GLU',\n",
    "    'G': 'GLY',\n",
    "    'H': 'HIS',\n",
    "    'I': 'ILE',\n",
    "    'L': 'LEU',\n",
    "    'K': 'LYS',\n",
    "    'M': 'MET',\n",
    "    'F': 'PHE',\n",
    "    'P': 'PRO',\n",
    "    'S': 'SER',\n",
    "    'T': 'THR',\n",
    "    'W': 'TRP',\n",
    "    'Y': 'TYR',\n",
    "    'V': 'VAL',\n",
    "})\n",
    "\n",
    "# Mapping from three-letter residue name to one-letter residue name\n",
    "RESTYPE_3_TO_1 = {v: k for k, v in RESTYPE_1_TO_3.items()}\n",
    "\n",
    "# List of residue names\n",
    "RESTYPES = list(RESTYPE_1_TO_3.keys())\n",
    "\n",
    "# Mapping from one-letter residue name to its correponding index in the list of residue names\n",
    "RESTYPE_ORDER = {restype: i for i, restype in enumerate(RESTYPES)}\n",
    "\n",
    "def compute_rigid_alignment(A, B):\n",
    "    \"\"\"\n",
    "    Use Kabsch algorithm to compute alignment from point cloud A to point cloud B.\n",
    "\n",
    "    Source: https://gist.github.com/bougui505/e392a371f5bab095a3673ea6f4976cc8\n",
    "    See: https://en.wikipedia.org/wiki/Kabsch_algorithm\n",
    "    \n",
    "    Args:\n",
    "        A:\n",
    "            [N, D] Point Cloud to Align (source)\n",
    "        B:\n",
    "            [N, D] Reference Point Cloud (target)\n",
    "    \n",
    "    Returns:\n",
    "        R:\n",
    "            Optimal rotation\n",
    "        t: \n",
    "            Optimal translation\n",
    "    \"\"\"\n",
    "\n",
    "    # Center\n",
    "    a_mean = A.mean(axis=0)\n",
    "    b_mean = B.mean(axis=0)\n",
    "    A_c = A - a_mean\n",
    "    B_c = B - b_mean\n",
    "\n",
    "    # Covariance matrix\n",
    "    H = A_c.T.mm(B_c)\n",
    "    U, S, V = torch.svd(H)\n",
    "\n",
    "    # Rotation matrix\n",
    "    R = V.mm(U.T)\n",
    "\n",
    "    # Translation vector\n",
    "    t = b_mean[None, :] - R.mm(a_mean[None, :].T).T\n",
    "    t = t.T\n",
    "    \n",
    "    return R, t.squeeze()\n",
    "\n",
    "def parse_pdb(filepath, motif_residues=None):\n",
    "    seqs, atoms, chains, coords = [], [], [], []\n",
    "    is_motif = []\n",
    "    with open(filepath, 'r') as file:\n",
    "        for line in file:\n",
    "            if line.startswith('ATOM'):\n",
    "                restype_3 = line[17:20]\n",
    "                restype_1 = RESTYPE_3_TO_1[restype_3]\n",
    "                chain = line[21]\n",
    "                x = float(line[30:38])\n",
    "                y = float(line[38:46])\n",
    "                z = float(line[46:54])\n",
    "                if motif_residues is not None:\n",
    "                    is_motif.append(int(line[22:26]) in motif_residues)\n",
    "                if line[13:15].strip() == 'CA':\n",
    "                    seqs.append(restype_1)\n",
    "                atoms.append(line[13:15].strip())\n",
    "                coords.append([x, y, z])\n",
    "\n",
    "    return seqs, atoms, torch.tensor(coords), is_motif"
   ]
  },
  {
   "cell_type": "code",
   "execution_count": 3,
   "metadata": {},
   "outputs": [],
   "source": [
    "import subprocess\n",
    "pdbs = os.listdir('pdbs_l24_dim4096_k128/org')\n",
    "for item_path in pdbs:\n",
    "    org_filepath = os.path.join('pdbs_l24_dim4096_k128/org', item_path)\n",
    "    rec_filepath = os.path.join('pdbs_l24_dim4096_k128/rec', item_path)\n",
    "    output_filepath = item_path.replace('.pdb', '.txt')\n",
    "    subprocess.call(f'packages/TMscore/TMalign {org_filepath} {rec_filepath} > tm/{output_filepath}', shell=True)"
   ]
  },
  {
   "cell_type": "code",
   "execution_count": 4,
   "metadata": {},
   "outputs": [],
   "source": [
    "def parse_tm_file(filepath):\n",
    "    results = {}\n",
    "    with open(filepath, 'r') as file:\n",
    "        for line in file:\n",
    "            if line[:7] == 'Aligned':\n",
    "                seqlen, rmsd, seqid = line.split(',')\n",
    "                results['seqlen'] = float(seqlen.split('=')[1])\n",
    "                results['rmsd'] = float(rmsd.split('=')[1])\n",
    "                results['seqid'] = float(seqid.split('=')[2])\n",
    "            elif line[:8] == 'TM-score':\n",
    "                results['tm'] = float(line.split('(')[0].split('=')[1])\n",
    "    assert len(results.keys()) == 4\n",
    "    return results"
   ]
  },
  {
   "cell_type": "code",
   "execution_count": 5,
   "metadata": {},
   "outputs": [],
   "source": [
    "rows = []\n",
    "for result_txt in os.listdir('tm'):\n",
    "    output = parse_tm_file(os.path.join('tm', result_txt))\n",
    "    rows.append([result_txt.replace('.txt', ''), output['seqlen'], output['seqid'], output['rmsd'], output['tm']]) "
   ]
  },
  {
   "cell_type": "code",
   "execution_count": 6,
   "metadata": {},
   "outputs": [],
   "source": [
    "import pandas as pd"
   ]
  },
  {
   "cell_type": "code",
   "execution_count": 7,
   "metadata": {},
   "outputs": [],
   "source": [
    "info = pd.DataFrame(rows, columns=['id', 'seqlen', 'seqid', 'scrmsd', 'sctm'])"
   ]
  },
  {
   "cell_type": "code",
   "execution_count": 133,
   "metadata": {},
   "outputs": [],
   "source": [
    "info.to_csv('sc.csv', index=False)"
   ]
  },
  {
   "cell_type": "code",
   "execution_count": 8,
   "metadata": {},
   "outputs": [],
   "source": [
    "D_MODEL = 1280\n",
    "D_HIDDEN = 4096\n",
    "device = 'cuda:0'\n",
    "\n",
    "esm2_weight = os.path.join('weights', 'esm2_t33_650M_UR50D.pt')\n",
    "sae_weight = 'esm2_plm1280_l24_sae4096_100Kseqs.pt'\n",
    "alphabet = esm.data.Alphabet.from_architecture(\"ESM-1b\")"
   ]
  },
  {
   "cell_type": "code",
   "execution_count": 9,
   "metadata": {},
   "outputs": [
    {
     "name": "stderr",
     "output_type": "stream",
     "text": [
      "/home/ubuntu/plm-interpretability/plm_interpretability/esm_wrapper.py:57: FutureWarning: You are using `torch.load` with `weights_only=False` (the current default value), which uses the default pickle module implicitly. It is possible to construct malicious pickle data which will execute arbitrary code during unpickling (See https://github.com/pytorch/pytorch/blob/main/SECURITY.md#untrusted-models for more details). In a future release, the default value for `weights_only` will be flipped to `True`. This limits the functions that could be executed during unpickling. Arbitrary objects will no longer be allowed to be loaded via this mode unless they are explicitly allowlisted by the user via `torch.serialization.add_safe_globals`. We recommend you start setting `weights_only=True` for any use case where you don't have full control of the loaded file. Please open an issue on GitHub for any issues related to this experimental feature.\n",
      "  model_data = torch.load(esm_pretrained)[\"model\"]\n",
      "/tmp/ipykernel_110536/3524610219.py:7: FutureWarning: You are using `torch.load` with `weights_only=False` (the current default value), which uses the default pickle module implicitly. It is possible to construct malicious pickle data which will execute arbitrary code during unpickling (See https://github.com/pytorch/pytorch/blob/main/SECURITY.md#untrusted-models for more details). In a future release, the default value for `weights_only` will be flipped to `True`. This limits the functions that could be executed during unpickling. Arbitrary objects will no longer be allowed to be loaded via this mode unless they are explicitly allowlisted by the user via `torch.serialization.add_safe_globals`. We recommend you start setting `weights_only=True` for any use case where you don't have full control of the loaded file. Please open an issue on GitHub for any issues related to this experimental feature.\n",
      "  sae_model.load_state_dict(torch.load(sae_weight))\n"
     ]
    }
   ],
   "source": [
    "esm2_model = ESM2Model(num_layers=33, embed_dim=1280, attention_heads=20, \n",
    "                       alphabet=alphabet, token_dropout=False)\n",
    "esm2_model.load_esm_ckpt(esm2_weight)\n",
    "esm2_model.eval()\n",
    "esm2_model = esm2_model.to(device)\n",
    "sae_model = SparseAutoencoder(D_MODEL, D_HIDDEN)\n",
    "sae_model.load_state_dict(torch.load(sae_weight))\n",
    "sae_model.eval()\n",
    "sae_model = sae_model.to(device)"
   ]
  },
  {
   "cell_type": "code",
   "execution_count": 306,
   "metadata": {},
   "outputs": [],
   "source": [
    "pdb_file = 'AF-A0A1Y1VHB5-F1-model_v4.pdb'"
   ]
  },
  {
   "cell_type": "code",
   "execution_count": 335,
   "metadata": {},
   "outputs": [],
   "source": [
    "AA_identity_latents = [\n",
    "    (3267, 'A'),\n",
    "    # (3812, 'C'), \n",
    "    (2830, 'D'),\n",
    "    (2152, 'E'),\n",
    "    (252, 'F'),\n",
    "    (3830, 'D'),\n",
    "    (743, 'H'),\n",
    "    (3978, 'I'),\n",
    "    (3073, 'K'),\n",
    "    (1497, 'L'),\n",
    "    (444, 'M'),\n",
    "    (21, 'N'),\n",
    "    (1386, 'P'),\n",
    "    (1266, 'Q'),\n",
    "    (3569, 'R'),\n",
    "    (1473, 'S'),\n",
    "    (220, 'T'),\n",
    "    (3383, 'V'),\n",
    "    (2685, 'W'),\n",
    "    (3481, 'Y')\n",
    "]\n"
   ]
  },
  {
   "cell_type": "code",
   "execution_count": 337,
   "metadata": {},
   "outputs": [
    {
     "name": "stdout",
     "output_type": "stream",
     "text": [
      "### Steering SAE dimension = 3481 Corresponds to Y ###\n",
      "Original Sequence:      MAVVLVGVVRRLSDTWWIWGAVVSMVFLIFFVMIAPVFIFPLLNKYTVLEDPRITQPILSLARANGIPARKVYQMDASRQTARMSANVSGYGQIMRITLNDNLLRRGSPEEIQSVMGHEMGHYVLHHIAKDILYFSAVIVISLRCGGHSNGPWLAGENAGRCAELGIPRCFPWSSFWVRSLPSYTRHSLTPTSAPTNTKPICMA\n",
      "0.6X Steered Sequence:  MYYYLYYYYRYYPYYWWYYYYYYSYYYLYYYYYYYPIYYYPYYNYYYYYYYYYIYYYIYYYAYYNYYYYYYYYYMYMSYYTYYYSANYSGYGPYKRITLYDYLYYYYYYEEYYYIYGYEYGYYYYYHYYYYIYYYYYYIYYYYYCYYYSYYYYYYYYYYYYYYYYYYYYYYYYYYYYYYSYYSYYYYYYYYYYYYYYYYYYYYY\n",
      "0.8X Steered Sequence:  YYYYYYYYYYYYYYYYYYYYYYYYYYYYYYYYYYYYYYYYPYYYYYYYYYYYYYYYYYYYYYYYYYYYYYYYYYYYYYYYTYYYYYYYYYYYYYYYYYYYDYYYYYYYYYYYYYYYYYYYYYYYYYYYYYYYYYYYYYYYYYYYYYYYYYYYYYYYYYYYYYYYYYYYYYYYYYYYYYYYYYYYYYYYYYYYYYYYYYYYYYYY\n",
      "1.0X Steered Sequence:  YYYYYYYYYYYYYYYYYYYYYYYYYYYYYYYYYYYYYYYYYYYYYYYYYYYYYYYYYYYYYYYYYYYYYYYYYYYYYYYYYYYYYYYYYYYYYYYYYYYYYYYYYYYYYYYYYYYYYYYYYYYYYYYYYYYYYYYYYYYYYYYYYYYYYYYYYYYYYYYYYYYYYYYYYYYYYYYYYYYYYYYYYYYYYYYYYYYYYYYYYYYY\n"
     ]
    }
   ],
   "source": [
    "import time \n",
    "from IPython.display import clear_output\n",
    "for dim_idx, aa in AA_identity_latents:\n",
    "    for pdb_file in os.listdir('pdbs_l24_dim4096_k128/org')[:6]:\n",
    "        print(f'### Steering SAE dimension = {dim_idx} Corresponds to {aa} ###')\n",
    "        seqs, atoms, _, _ = parse_pdb(os.path.join('pdbs_l24_dim4096_k128/org', pdb_file))\n",
    "        sequence = ''.join(seqs)\n",
    "        print('Original Sequence:     ', sequence)\n",
    "        for mult_by in [0.6, 0.8, 1.0]:\n",
    "            with torch.no_grad():\n",
    "                tokens, embed = esm2_model.get_layer_activations(sequence, 24)\n",
    "                acts, mu, std = sae_model.encode(embed[0])\n",
    "                acts_dec = sae_model.decode(acts, mu, std)\n",
    "                error = embed - acts_dec\n",
    "                max_act = acts.max()\n",
    "                acts[:, dim_idx] = max_act * mult_by\n",
    "                steered_acts_dec = sae_model.decode(acts, mu, std)\n",
    "                steered = esm2_model.get_sequence((error + steered_acts_dec), 24)\n",
    "                steered_seq = torch.argmax(steered[0, 1:-1, 4:24], dim=-1)\n",
    "                steered_seq = ''.join([alphabet.all_toks[i+4] for i in steered_seq])\n",
    "                print(f'{mult_by}X Steered Sequence: ', steered_seq)\n",
    "        time.sleep(1)\n",
    "        clear_output(wait=True)  "
   ]
  },
  {
   "cell_type": "code",
   "execution_count": 341,
   "metadata": {},
   "outputs": [
    {
     "name": "stdout",
     "output_type": "stream",
     "text": [
      "### Steering Other SAE dimensions = 9  ###\n",
      "Original Sequence:                  MAVVLVGVVRRLSDTWWIWGAVVSMVFLIFFVMIAPVFIFPLLNKYTVLEDPRITQPILSLARANGIPARKVYQMDASRQTARMSANVSGYGQIMRITLNDNLLRRGSPEEIQSVMGHEMGHYVLHHIAKDILYFSAVIVISLRCGGHSNGPWLAGENAGRCAELGIPRCFPWSSFWVRSLPSYTRHSLTPTSAPTNTKPICMA\n",
      "0.6X Steered Sequence: [Distance=7] MAVVLVGVVRRLPDTWWIWGAVVSMVFLIFFVMIAPVFIFPLFNKYTPLEDPRITQPILSLARANGIPARKVYQMDASRQTARMSANVSGLGQTMRITLNDNLLRRGSPEEIQSVMGHEMGHYVLHHIAKGILYFSAVIVISLRCGGHSNGPWLAGENAGRCAELGIPRCFPWSSFWVRSLPSPTRHSLTPTSAPTNTKPICMA\n",
      "0.8X Steered Sequence: [Distance=7] MAVVLVGVVRRLPDTWWIWGAVVSMVFLIFFVMIAPVFIFPLFNKYTPLEDPRITQPILSLARANGIPARKVYQMDASRQTARMSANVSGLGQTMRITLNDNLLRRGSPEEIQSVMGHEMGHYVLHHIAKGILYFSAVIVISLRCGGHSNGPWLAGENAGRCAELGIPRCFPWSSFWVRSLPSPTRHSLTPTSAPTNTKPICMA\n",
      "1.0X Steered Sequence: [Distance=8] MAVVLVGVVRRLPDRWWIWGAVVSMVFLIFFVMIAPVFIFPLFNKYTPLEDPRITQPILSLARANGIPARKVYQMDASRQTARMSANVSGLGQSMRITLNDNLLRRGSPEEIQSVMGHEMGHYVLHHIAKGILYFSAVIVISLRCGGHSNGPWLAGENAGRCAELGIPRCFPWSSFWVRSLPSPTRHSLTPTSAPTNTKPICMA\n"
     ]
    }
   ],
   "source": [
    "import time \n",
    "from IPython.display import clear_output\n",
    "def distance(s1, s2):\n",
    "    return sum([int(a1!=a2) for a1,a2 in zip(s1, s2)])\n",
    "for dim_idx in [3, 5, 7, 9]:\n",
    "    for pdb_file in os.listdir('pdbs_l24_dim4096_k128/org')[:6]:\n",
    "        print(f'### Steering Other SAE dimensions = {dim_idx}  ###')\n",
    "        seqs, atoms, _, _ = parse_pdb(os.path.join('pdbs_l24_dim4096_k128/org', pdb_file))\n",
    "        sequence = ''.join(seqs)\n",
    "        print('Original Sequence:                 ', sequence)\n",
    "        for mult_by in [0.6, 0.8, 1.0]:\n",
    "            with torch.no_grad():\n",
    "                tokens, embed = esm2_model.get_layer_activations(sequence, 24)\n",
    "                acts, mu, std = sae_model.encode(embed[0])\n",
    "                acts_dec = sae_model.decode(acts, mu, std)\n",
    "                error = embed - acts_dec\n",
    "                max_act = acts.max()\n",
    "                acts[:, dim_idx] = max_act * mult_by\n",
    "                steered_acts_dec = sae_model.decode(acts, mu, std)\n",
    "                steered = esm2_model.get_sequence((error + steered_acts_dec), 24)\n",
    "                steered_seq = torch.argmax(steered[0, 1:-1, 4:24], dim=-1)\n",
    "                steered_seq = ''.join([alphabet.all_toks[i+4] for i in steered_seq])\n",
    "                print(f'{mult_by}X Steered Sequence: [Distance={distance(sequence, steered_seq)}]', steered_seq)\n",
    "        time.sleep(1)\n",
    "        clear_output(wait=True)  "
   ]
  },
  {
   "cell_type": "code",
   "execution_count": 325,
   "metadata": {},
   "outputs": [
    {
     "data": {
      "text/plain": [
       "'SDLSYFSSYLSSTLASIVASSKVFSTSRLSSSSKLTLSSTEYTSLRSSSESSSASVYLVRKSDSSSSSLYALKRLSSSSSSSEERVRNELLALLSLLSSSRSLSLSDYASVKSSDSTSSSSLLLSSSSSSSLSSLSSSTSKRTRSSLSFSLSSSILSDISSSLSSSSKSSSSLASRSLKLSNVALSSSSSASLSSLSSVSSASSTSSTRSSASVSKSFSSSTSTSTYRSSEFLSSLVDSRSDSRTDSSSLSCTLLALALSSSSSSSTSTSTLSSVVISDDSTYDSLFLLLLKKLLSSDSSKRSTLSEVKSTLYLFLSASSFSSNAV'"
      ]
     },
     "execution_count": 325,
     "metadata": {},
     "output_type": "execute_result"
    }
   ],
   "source": [
    "steered_seq"
   ]
  },
  {
   "cell_type": "code",
   "execution_count": 326,
   "metadata": {},
   "outputs": [
    {
     "data": {
      "text/plain": [
       "326"
      ]
     },
     "execution_count": 326,
     "metadata": {},
     "output_type": "execute_result"
    }
   ],
   "source": [
    "len(sequence)"
   ]
  },
  {
   "cell_type": "code",
   "execution_count": 327,
   "metadata": {},
   "outputs": [],
   "source": []
  },
  {
   "cell_type": "code",
   "execution_count": 328,
   "metadata": {},
   "outputs": [
    {
     "data": {
      "text/plain": [
       "148"
      ]
     },
     "execution_count": 328,
     "metadata": {},
     "output_type": "execute_result"
    }
   ],
   "source": [
    "distance(steered_seq, sequence)"
   ]
  },
  {
   "cell_type": "code",
   "execution_count": null,
   "metadata": {},
   "outputs": [],
   "source": []
  },
  {
   "cell_type": "code",
   "execution_count": null,
   "metadata": {},
   "outputs": [],
   "source": []
  }
 ],
 "metadata": {
  "kernelspec": {
   "display_name": "plm_venv",
   "language": "python",
   "name": "python3"
  },
  "language_info": {
   "codemirror_mode": {
    "name": "ipython",
    "version": 3
   },
   "file_extension": ".py",
   "mimetype": "text/x-python",
   "name": "python",
   "nbconvert_exporter": "python",
   "pygments_lexer": "ipython3",
   "version": "3.10.12"
  }
 },
 "nbformat": 4,
 "nbformat_minor": 2
}
